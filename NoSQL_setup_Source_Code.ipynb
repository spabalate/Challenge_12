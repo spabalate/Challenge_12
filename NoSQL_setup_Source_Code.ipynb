{
 "cells": [
  {
   "cell_type": "markdown",
   "id": "9a57c4c6",
   "metadata": {},
   "source": [
    "# Eat Safe, Love"
   ]
  },
  {
   "cell_type": "markdown",
   "id": "064ef857",
   "metadata": {},
   "source": [
    "## Part 1: Database and Jupyter Notebook Set Up"
   ]
  },
  {
   "cell_type": "markdown",
   "id": "664e3c1f",
   "metadata": {},
   "source": [
    "Import the data provided in the `establishments.json` file from your Terminal. Name the database `uk_food` and the collection `establishments`.\n",
    "\n",
    "Within this markdown cell, copy the line of text you used to import the data from your Terminal. This way, future analysts will be able to repeat your process.\n",
    "\n",
    "e.g.: Import the dataset with `mongoimport --db uk_food --collection establishments --file Resources/establishments.json --jsonArray`"
   ]
  },
  {
   "cell_type": "code",
   "execution_count": 1,
   "id": "3ecdd008",
   "metadata": {},
   "outputs": [],
   "source": [
    "# Import dependencies\n",
    "from pymongo import MongoClient\n",
    "from pprint import pprint"
   ]
  },
  {
   "cell_type": "code",
   "execution_count": 2,
   "id": "59390c4a",
   "metadata": {},
   "outputs": [],
   "source": [
    "# Create an instance of MongoClient\n",
    "mongo = MongoClient(port=27017)"
   ]
  },
  {
   "cell_type": "code",
   "execution_count": 3,
   "id": "7f9ececa",
   "metadata": {},
   "outputs": [
    {
     "name": "stdout",
     "output_type": "stream",
     "text": [
      "['admin', 'config', 'fruits_db', 'local', 'uk_food']\n"
     ]
    }
   ],
   "source": [
    "# confirm that our new database was created\n",
    "print(mongo.list_database_names())"
   ]
  },
  {
   "cell_type": "code",
   "execution_count": 4,
   "id": "71e373c1",
   "metadata": {},
   "outputs": [],
   "source": [
    "# assign the uk_food database to a variable name\n",
    "db = mongo['uk_food']"
   ]
  },
  {
   "cell_type": "code",
   "execution_count": 5,
   "id": "ef1b89ed",
   "metadata": {},
   "outputs": [],
   "source": [
    "# review the collections in our new database\n",
    "collections = db.list_collection_names()"
   ]
  },
  {
   "cell_type": "code",
   "execution_count": 6,
   "id": "18ab463c",
   "metadata": {},
   "outputs": [
    {
     "name": "stdout",
     "output_type": "stream",
     "text": [
      "establishments\n"
     ]
    }
   ],
   "source": [
    "# review the collections in our new database\n",
    "for collection in collections:\n",
    "    print(collection)"
   ]
  },
  {
   "cell_type": "code",
   "execution_count": 7,
   "id": "6a0d92df",
   "metadata": {
    "scrolled": false
   },
   "outputs": [
    {
     "name": "stdout",
     "output_type": "stream",
     "text": [
      "{'AddressLine1': 'The Bay',\n",
      " 'AddressLine2': 'St Margarets Bay',\n",
      " 'AddressLine3': 'Kent',\n",
      " 'AddressLine4': '',\n",
      " 'BusinessName': 'The Coastguard Inn',\n",
      " 'BusinessType': 'Pub/bar/nightclub',\n",
      " 'BusinessTypeID': 7843,\n",
      " 'ChangesByServerID': 0,\n",
      " 'Distance': 4587.347174863443,\n",
      " 'FHRSID': 1034540,\n",
      " 'LocalAuthorityBusinessID': 'PI/000078691',\n",
      " 'LocalAuthorityCode': '182',\n",
      " 'LocalAuthorityEmailAddress': 'publicprotection@dover.gov.uk',\n",
      " 'LocalAuthorityName': 'Dover',\n",
      " 'LocalAuthorityWebSite': 'http://www.dover.gov.uk/',\n",
      " 'NewRatingPending': False,\n",
      " 'Phone': '',\n",
      " 'PostCode': 'CT15 6DY',\n",
      " 'RatingDate': '2022-08-17T00:00:00',\n",
      " 'RatingKey': 'fhrs_5_en-gb',\n",
      " 'RatingValue': '5',\n",
      " 'RightToReply': '',\n",
      " 'SchemeType': 'FHRS',\n",
      " '_id': ObjectId('65a98c6174f143cb5253ddf5'),\n",
      " 'geocode': {'latitude': '51.152225', 'longitude': '1.387974'},\n",
      " 'links': [{'href': 'https://api.ratings.food.gov.uk/establishments/1034540',\n",
      "            'rel': 'self'}],\n",
      " 'meta': {'dataSource': None,\n",
      "          'extractDate': '0001-01-01T00:00:00',\n",
      "          'itemCount': 0,\n",
      "          'pageNumber': 0,\n",
      "          'pageSize': 0,\n",
      "          'returncode': None,\n",
      "          'totalCount': 0,\n",
      "          'totalPages': 0},\n",
      " 'scores': {'ConfidenceInManagement': 0, 'Hygiene': 0, 'Structural': 5}}\n"
     ]
    }
   ],
   "source": [
    "# review a document in the establishments collection\n",
    "document = db['establishments'].find_one()\n",
    "pprint(document)"
   ]
  },
  {
   "cell_type": "code",
   "execution_count": 8,
   "id": "11c9f11b",
   "metadata": {},
   "outputs": [],
   "source": [
    "# assign the collection to a variable\n",
    "establishments = db['establishments']"
   ]
  },
  {
   "cell_type": "code",
   "execution_count": 9,
   "id": "27a4c222",
   "metadata": {},
   "outputs": [],
   "source": [
    "# # Drop all documents in the 'establishments' collection\n",
    "# db['establishments'].drop()\n"
   ]
  },
  {
   "cell_type": "markdown",
   "id": "d5671434",
   "metadata": {},
   "source": [
    "## Part 2: Update the Database"
   ]
  },
  {
   "cell_type": "markdown",
   "id": "314bd884",
   "metadata": {},
   "source": [
    "1. An exciting new halal restaurant just opened in Greenwich, but hasn't been rated yet. The magazine has asked you to include it in your analysis. Add the following restaurant \"Penang Flavours\" to the database."
   ]
  },
  {
   "cell_type": "code",
   "execution_count": 10,
   "id": "1631e99d",
   "metadata": {},
   "outputs": [
    {
     "name": "stdout",
     "output_type": "stream",
     "text": [
      "No existing instances of 'Penang Flavours' found.\n"
     ]
    }
   ],
   "source": [
    "# Delete all existing instances of 'Penang Flavours' (for re-running code purposes)\n",
    "delete_result = establishments.delete_many({'BusinessName': 'Penang Flavours'})\n",
    "\n",
    "if delete_result.deleted_count > 0:\n",
    "    print(\"All existing instances of 'Penang Flavours' deleted successfully.\")\n",
    "else:\n",
    "    print(\"No existing instances of 'Penang Flavours' found.\")"
   ]
  },
  {
   "cell_type": "code",
   "execution_count": 11,
   "id": "c2da7648",
   "metadata": {},
   "outputs": [],
   "source": [
    "# Create a dictionary for the new restaurant data\n",
    "penang_flavours = {\n",
    "    \"BusinessName\":\"Penang Flavours\",\n",
    "    \"BusinessType\":\"Restaurant/Cafe/Canteen\",\n",
    "    \"BusinessTypeID\":\"\",\n",
    "    \"AddressLine1\":\"Penang Flavours\",\n",
    "    \"AddressLine2\":\"146A Plumstead Rd\",\n",
    "    \"AddressLine3\":\"London\",\n",
    "    \"AddressLine4\":\"\",\n",
    "    \"PostCode\":\"SE18 7DY\",\n",
    "    \"Phone\":\"\",\n",
    "    \"LocalAuthorityCode\":\"511\",\n",
    "    \"LocalAuthorityName\":\"Greenwich\",\n",
    "    \"LocalAuthorityWebSite\":\"http://www.royalgreenwich.gov.uk\",\n",
    "    \"LocalAuthorityEmailAddress\":\"health@royalgreenwich.gov.uk\",\n",
    "    \"scores\":{\n",
    "        \"Hygiene\":\"\",\n",
    "        \"Structural\":\"\",\n",
    "        \"ConfidenceInManagement\":\"\"\n",
    "    },\n",
    "    \"SchemeType\":\"FHRS\",\n",
    "    \"geocode\":{\n",
    "        \"longitude\":\"0.08384000\",\n",
    "        \"latitude\":\"51.49014200\"\n",
    "    },\n",
    "    \"RightToReply\":\"\",\n",
    "    \"Distance\":4623.9723280747176,\n",
    "    \"NewRatingPending\":True\n",
    "}"
   ]
  },
  {
   "cell_type": "code",
   "execution_count": 12,
   "id": "a6e5cece",
   "metadata": {},
   "outputs": [],
   "source": [
    "# Insert the new restaurant into the collection\n",
    "result = establishments.insert_one(penang_flavours)"
   ]
  },
  {
   "cell_type": "code",
   "execution_count": 13,
   "id": "63bb10f9",
   "metadata": {
    "scrolled": false
   },
   "outputs": [
    {
     "name": "stdout",
     "output_type": "stream",
     "text": [
      "{'AddressLine1': 'Penang Flavours',\n",
      " 'AddressLine2': '146A Plumstead Rd',\n",
      " 'AddressLine3': 'London',\n",
      " 'AddressLine4': '',\n",
      " 'BusinessName': 'Penang Flavours',\n",
      " 'BusinessType': 'Restaurant/Cafe/Canteen',\n",
      " 'BusinessTypeID': '',\n",
      " 'Distance': 4623.972328074718,\n",
      " 'LocalAuthorityCode': '511',\n",
      " 'LocalAuthorityEmailAddress': 'health@royalgreenwich.gov.uk',\n",
      " 'LocalAuthorityName': 'Greenwich',\n",
      " 'LocalAuthorityWebSite': 'http://www.royalgreenwich.gov.uk',\n",
      " 'NewRatingPending': True,\n",
      " 'Phone': '',\n",
      " 'PostCode': 'SE18 7DY',\n",
      " 'RightToReply': '',\n",
      " 'SchemeType': 'FHRS',\n",
      " '_id': ObjectId('65a98cb5c4110413d90bccb0'),\n",
      " 'geocode': {'latitude': '51.49014200', 'longitude': '0.08384000'},\n",
      " 'scores': {'ConfidenceInManagement': '', 'Hygiene': '', 'Structural': ''}}\n"
     ]
    }
   ],
   "source": [
    "# Check that the new restaurant was inserted\n",
    "\n",
    "penang_flavours_document = establishments.find_one({'BusinessName': 'Penang Flavours'})\n",
    "\n",
    "# Print the document if found\n",
    "if penang_flavours_document:\n",
    "    pprint(penang_flavours_document)\n",
    "else:\n",
    "    print(\"Penang Flavours not found.\")\n"
   ]
  },
  {
   "cell_type": "markdown",
   "id": "0ef4395a",
   "metadata": {},
   "source": [
    "2. Find the BusinessTypeID for \"Restaurant/Cafe/Canteen\" and return only the `BusinessTypeID` and `BusinessType` fields."
   ]
  },
  {
   "cell_type": "code",
   "execution_count": 14,
   "id": "93c63829",
   "metadata": {},
   "outputs": [
    {
     "name": "stdout",
     "output_type": "stream",
     "text": [
      "{'BusinessType': 'Restaurant/Cafe/Canteen', 'BusinessTypeID': ''}\n"
     ]
    }
   ],
   "source": [
    "# Find the BusinessTypeID for \"Restaurant/Cafe/Canteen\" and return only the BusinessTypeID and BusinessType fields\n",
    "\n",
    "query = {'BusinessName': 'Penang Flavours'}\n",
    "projection = {'BusinessTypeID': 0, 'BusinessType': 1, '_id': 0}\n",
    "\n",
    "# Find and print the document with the specified fields\n",
    "penang_flavours_info = establishments.find_one(query, {'BusinessTypeID': 1, 'BusinessType': 1, '_id': 0})\n",
    "\n",
    "if penang_flavours_info:\n",
    "    pprint(penang_flavours_info)\n",
    "else:\n",
    "    print(\"Penang Flavours not found.\")"
   ]
  },
  {
   "cell_type": "markdown",
   "id": "4e570caf",
   "metadata": {},
   "source": [
    "3. Update the new restaurant with the `BusinessTypeID` you found."
   ]
  },
  {
   "cell_type": "code",
   "execution_count": 15,
   "id": "7f599f3d",
   "metadata": {
    "scrolled": true
   },
   "outputs": [],
   "source": [
    "# Update the new restaurant with the correct BusinessTypeID\n",
    "\n",
    "# Define the filter for finding the document to update\n",
    "filter_criteria = {'BusinessName': 'Penang Flavours'}\n",
    "\n",
    "# Define the update operation to set the correct BusinessTypeID\n",
    "update_operation = {'$set': {'BusinessTypeID': 1}}\n",
    "\n",
    "# Update the document in the 'establishments' collection\n",
    "update_result = establishments.update_one(filter_criteria, update_operation)"
   ]
  },
  {
   "cell_type": "code",
   "execution_count": 16,
   "id": "a6ad16f7",
   "metadata": {},
   "outputs": [
    {
     "name": "stdout",
     "output_type": "stream",
     "text": [
      "Restaurant 'Penang Flavours' updated successfully.\n",
      "{'BusinessTypeID': 1}\n"
     ]
    }
   ],
   "source": [
    "# Confirm that the new restaurant was updated\n",
    "\n",
    "if update_result.modified_count > 0:\n",
    "    print(\"Restaurant 'Penang Flavours' updated successfully.\")\n",
    "else:\n",
    "    print(\"Restaurant 'Penang Flavours' not found or no update needed.\")\n",
    "\n",
    "# Query the 'establishments' collection to find the specified restaurant\n",
    "penang_flavours_info = establishments.find_one({'BusinessName': 'Penang Flavours'}, {'BusinessTypeID': 1, '_id': 0})\n",
    "\n",
    "# Print the document if found\n",
    "if penang_flavours_info:\n",
    "    pprint(penang_flavours_info)\n",
    "else:\n",
    "    print(\"Penang Flavours not found in the 'establishments' collection.\")\n"
   ]
  },
  {
   "cell_type": "markdown",
   "id": "67281254",
   "metadata": {},
   "source": [
    "4. The magazine is not interested in any establishments in Dover, so check how many documents contain the Dover Local Authority. Then, remove any establishments within the Dover Local Authority from the database, and check the number of documents to ensure they were deleted."
   ]
  },
  {
   "cell_type": "code",
   "execution_count": 17,
   "id": "768474a6",
   "metadata": {},
   "outputs": [
    {
     "name": "stdout",
     "output_type": "stream",
     "text": [
      "Number of documents with LocalAuthorityName 'Dover': 994\n"
     ]
    }
   ],
   "source": [
    "# Find how many documents have LocalAuthorityName as \"Dover\"\n",
    "\n",
    "# Count the number of documents with LocalAuthorityName as \"Dover\"\n",
    "dover_count = establishments.count_documents({'LocalAuthorityName': 'Dover'})\n",
    "\n",
    "# Print the count\n",
    "print(\"Number of documents with LocalAuthorityName 'Dover':\", dover_count)\n"
   ]
  },
  {
   "cell_type": "code",
   "execution_count": 18,
   "id": "a11d5f1b",
   "metadata": {},
   "outputs": [
    {
     "name": "stdout",
     "output_type": "stream",
     "text": [
      "Number of documents deleted: 994\n"
     ]
    }
   ],
   "source": [
    "# Delete all documents where LocalAuthorityName is \"Dover\"\n",
    "\n",
    "# Define the filter for deleting documents\n",
    "filter_criteria = {'LocalAuthorityName': 'Dover'}\n",
    "\n",
    "# Delete all documents with LocalAuthorityName as \"Dover\"\n",
    "delete_result = establishments.delete_many(filter_criteria)\n",
    "\n",
    "# Print the number of deleted documents\n",
    "print(\"Number of documents deleted:\", delete_result.deleted_count)\n"
   ]
  },
  {
   "cell_type": "code",
   "execution_count": 19,
   "id": "2a51aba0",
   "metadata": {},
   "outputs": [
    {
     "name": "stdout",
     "output_type": "stream",
     "text": [
      "Number of documents with LocalAuthorityName 'Dover': 0\n"
     ]
    }
   ],
   "source": [
    "# Check if any remaining documents include Dover\n",
    "\n",
    "# Count the number of documents with LocalAuthorityName as \"Dover\"\n",
    "dover_count = establishments.count_documents({'LocalAuthorityName': 'Dover'})\n",
    "\n",
    "# Print the count\n",
    "print(\"Number of documents with LocalAuthorityName 'Dover':\", dover_count)"
   ]
  },
  {
   "cell_type": "code",
   "execution_count": 20,
   "id": "8c356f7b",
   "metadata": {},
   "outputs": [
    {
     "name": "stdout",
     "output_type": "stream",
     "text": [
      "{'AddressLine1': '23 The Stade',\n",
      " 'AddressLine2': 'Folkestone',\n",
      " 'AddressLine3': 'Kent',\n",
      " 'AddressLine4': '',\n",
      " 'BusinessName': 'The Ship',\n",
      " 'BusinessType': 'Pub/bar/nightclub',\n",
      " 'BusinessTypeID': 7843,\n",
      " 'ChangesByServerID': 0,\n",
      " 'Distance': 4591.912144538092,\n",
      " 'FHRSID': 289352,\n",
      " 'LocalAuthorityBusinessID': 'PI/000002460',\n",
      " 'LocalAuthorityCode': '188',\n",
      " 'LocalAuthorityEmailAddress': 'foodteam@folkestone-hythe.gov.uk',\n",
      " 'LocalAuthorityName': 'Folkestone and Hythe',\n",
      " 'LocalAuthorityWebSite': 'http://www.folkestone-hythe.gov.uk',\n",
      " 'NewRatingPending': False,\n",
      " 'Phone': '',\n",
      " 'PostCode': 'CT19 6AB',\n",
      " 'RatingDate': '2015-08-27T00:00:00',\n",
      " 'RatingKey': 'fhrs_5_en-gb',\n",
      " 'RatingValue': '5',\n",
      " 'RightToReply': '',\n",
      " 'SchemeType': 'FHRS',\n",
      " '_id': ObjectId('65a98c6174f143cb5253e0dc'),\n",
      " 'geocode': {'latitude': '51.08084', 'longitude': '1.188537'},\n",
      " 'links': [{'href': 'https://api.ratings.food.gov.uk/establishments/289352',\n",
      "            'rel': 'self'}],\n",
      " 'meta': {'dataSource': None,\n",
      "          'extractDate': '0001-01-01T00:00:00',\n",
      "          'itemCount': 0,\n",
      "          'pageNumber': 0,\n",
      "          'pageSize': 0,\n",
      "          'returncode': None,\n",
      "          'totalCount': 0,\n",
      "          'totalPages': 0},\n",
      " 'scores': {'ConfidenceInManagement': 5, 'Hygiene': 5, 'Structural': 5}}\n"
     ]
    }
   ],
   "source": [
    "# Check that other documents remain with 'find_one'\n",
    "\n",
    "# Find and print a single document after the deletion\n",
    "remaining_document = establishments.find_one()\n",
    "\n",
    "# Print the document if found\n",
    "if remaining_document:\n",
    "    pprint(remaining_document)\n",
    "else:\n",
    "    print(\"No remaining documents in the 'establishments' collection.\")\n"
   ]
  },
  {
   "cell_type": "markdown",
   "id": "e9f1662d",
   "metadata": {},
   "source": [
    "5. Some of the number values are stored as strings, when they should be stored as numbers."
   ]
  },
  {
   "cell_type": "markdown",
   "id": "c46df2df",
   "metadata": {},
   "source": [
    "Use `update_many` to convert `latitude` and `longitude` to decimal numbers."
   ]
  },
  {
   "cell_type": "code",
   "execution_count": 21,
   "id": "fd4112ce",
   "metadata": {},
   "outputs": [
    {
     "name": "stdout",
     "output_type": "stream",
     "text": [
      "Number of documents with 'geocode' in string format: 38786\n"
     ]
    }
   ],
   "source": [
    "# Change the data type from String to Decimal for longitude and latitude\n",
    "\n",
    "# Find the number of documents with geocode in string format\n",
    "filter_criteria = {'$or': [\n",
    "    {'geocode.latitude': {'$type': 'string'}},\n",
    "    {'geocode.longitude': {'$type': 'string'}}\n",
    "]}\n",
    "\n",
    "# Count the number of documents matching the filter criteria\n",
    "num_documents_with_strings = establishments.count_documents(filter_criteria)\n",
    "\n",
    "# Print the result\n",
    "print(\"Number of documents with 'geocode' in string format:\", num_documents_with_strings)\n"
   ]
  },
  {
   "cell_type": "code",
   "execution_count": 22,
   "id": "f5ff336c",
   "metadata": {},
   "outputs": [
    {
     "name": "stdout",
     "output_type": "stream",
     "text": [
      "Conversion to decimals completed.\n"
     ]
    }
   ],
   "source": [
    "from bson.decimal128 import Decimal128\n",
    "\n",
    "# Change the data type from String to Decimal for longitude and latitude\n",
    "\n",
    "# Define the filter criteria to select documents with string latitude or longitude\n",
    "filter_criteria = {'$or': [\n",
    "    {'geocode.latitude': {'$type': 'string'}},\n",
    "    {'geocode.longitude': {'$type': 'string'}}\n",
    "]}\n",
    "\n",
    "# Retrieve the documents that need updating\n",
    "documents_to_update = establishments.find(filter_criteria)\n",
    "\n",
    "# Iterate through the documents and update the 'geocode' field\n",
    "for document in documents_to_update:\n",
    "    # Check if latitude is a string and convert if necessary\n",
    "    if isinstance(document['geocode']['latitude'], str):\n",
    "        document['geocode']['latitude'] = Decimal128(document['geocode']['latitude'])\n",
    "\n",
    "    # Check if longitude is a string and convert if necessary\n",
    "    if isinstance(document['geocode']['longitude'], str):\n",
    "        document['geocode']['longitude'] = Decimal128(document['geocode']['longitude'])\n",
    "\n",
    "    # Update the document in the 'establishments' collection\n",
    "    establishments.update_one({'_id': document['_id']}, {'$set': {'geocode': document['geocode']}})\n",
    "\n",
    "# Print a message after the update\n",
    "print(\"Conversion to decimals completed.\")\n"
   ]
  },
  {
   "cell_type": "code",
   "execution_count": 23,
   "id": "512828be",
   "metadata": {},
   "outputs": [
    {
     "name": "stdout",
     "output_type": "stream",
     "text": [
      "{'AddressLine1': '23 The Stade',\n",
      " 'AddressLine2': 'Folkestone',\n",
      " 'AddressLine3': 'Kent',\n",
      " 'AddressLine4': '',\n",
      " 'BusinessName': 'The Ship',\n",
      " 'BusinessType': 'Pub/bar/nightclub',\n",
      " 'BusinessTypeID': 7843,\n",
      " 'ChangesByServerID': 0,\n",
      " 'Distance': 4591.912144538092,\n",
      " 'FHRSID': 289352,\n",
      " 'LocalAuthorityBusinessID': 'PI/000002460',\n",
      " 'LocalAuthorityCode': '188',\n",
      " 'LocalAuthorityEmailAddress': 'foodteam@folkestone-hythe.gov.uk',\n",
      " 'LocalAuthorityName': 'Folkestone and Hythe',\n",
      " 'LocalAuthorityWebSite': 'http://www.folkestone-hythe.gov.uk',\n",
      " 'NewRatingPending': False,\n",
      " 'Phone': '',\n",
      " 'PostCode': 'CT19 6AB',\n",
      " 'RatingDate': '2015-08-27T00:00:00',\n",
      " 'RatingKey': 'fhrs_5_en-gb',\n",
      " 'RatingValue': '5',\n",
      " 'RightToReply': '',\n",
      " 'SchemeType': 'FHRS',\n",
      " '_id': ObjectId('65a98c6174f143cb5253e0dc'),\n",
      " 'geocode': {'latitude': Decimal128('51.08084'),\n",
      "             'longitude': Decimal128('1.188537')},\n",
      " 'links': [{'href': 'https://api.ratings.food.gov.uk/establishments/289352',\n",
      "            'rel': 'self'}],\n",
      " 'meta': {'dataSource': None,\n",
      "          'extractDate': '0001-01-01T00:00:00',\n",
      "          'itemCount': 0,\n",
      "          'pageNumber': 0,\n",
      "          'pageSize': 0,\n",
      "          'returncode': None,\n",
      "          'totalCount': 0,\n",
      "          'totalPages': 0},\n",
      " 'scores': {'ConfidenceInManagement': 5, 'Hygiene': 5, 'Structural': 5}}\n"
     ]
    }
   ],
   "source": [
    "# Checks if 'geocode' was updated to a decimal\n",
    "document = db['establishments'].find_one()\n",
    "pprint(document)"
   ]
  },
  {
   "cell_type": "code",
   "execution_count": 24,
   "id": "afd205c1",
   "metadata": {},
   "outputs": [
    {
     "name": "stdout",
     "output_type": "stream",
     "text": [
      "Latitude as Decimal: 51.08084\n",
      "Longitude as Decimal: 1.188537\n"
     ]
    }
   ],
   "source": [
    "# Testing the extraction of latitude and longitude\n",
    "updated_document = establishments.find_one()\n",
    "\n",
    "if updated_document and 'geocode' in updated_document:\n",
    "    # Access the 'geocode' field\n",
    "    geocode = updated_document['geocode']\n",
    "\n",
    "    # Extract 'latitude' and 'longitude' values as decimals\n",
    "    latitude_decimal = geocode['latitude'].to_decimal()\n",
    "    longitude_decimal = geocode['longitude'].to_decimal()\n",
    "\n",
    "    # Print the decimal values\n",
    "    print(\"Latitude as Decimal:\", latitude_decimal)\n",
    "    print(\"Longitude as Decimal:\", longitude_decimal)\n",
    "else:\n",
    "    print(\"No documents found with 'geocode' field.\")\n"
   ]
  },
  {
   "cell_type": "markdown",
   "id": "142e319c",
   "metadata": {},
   "source": [
    "Use `update_many` to convert `RatingValue` to integer numbers."
   ]
  },
  {
   "cell_type": "code",
   "execution_count": 25,
   "id": "04430a5b",
   "metadata": {},
   "outputs": [
    {
     "data": {
      "text/plain": [
       "UpdateResult({'n': 4091, 'nModified': 4091, 'ok': 1.0, 'updatedExisting': True}, acknowledged=True)"
      ]
     },
     "execution_count": 25,
     "metadata": {},
     "output_type": "execute_result"
    }
   ],
   "source": [
    "# Set non 1-5 Rating Values to Null\n",
    "non_ratings = [\"AwaitingInspection\", \"Awaiting Inspection\", \"AwaitingPublication\", \"Pass\", \"Exempt\"]\n",
    "establishments.update_many({\"RatingValue\": {\"$in\": non_ratings}}, [ {'$set':{ \"RatingValue\" : None}} ])"
   ]
  },
  {
   "cell_type": "code",
   "execution_count": 26,
   "id": "92524ccc",
   "metadata": {},
   "outputs": [
    {
     "data": {
      "text/plain": [
       "UpdateResult({'n': 34629, 'nModified': 34629, 'ok': 1.0, 'updatedExisting': True}, acknowledged=True)"
      ]
     },
     "execution_count": 26,
     "metadata": {},
     "output_type": "execute_result"
    }
   ],
   "source": [
    "# Change the data type from String to Integer for RatingValue\n",
    "\n",
    "# Set non 1-5 Rating Values to Null\n",
    "non_ratings = [\"AwaitingInspection\", \"Awaiting Inspection\", \"AwaitingPublication\", \"Pass\", \"Exempt\"]\n",
    "establishments.update_many({\"RatingValue\": {\"$in\": non_ratings}}, {'$set': {\"RatingValue\": None}})\n",
    "\n",
    "# Convert RatingValue to Integer for valid numeric strings\n",
    "establishments.update_many({\n",
    "    \"RatingValue\": {\n",
    "        \"$exists\": True,\n",
    "        \"$type\": \"string\",  # Check if it's a string\n",
    "        \"$regex\": \"^[1-5]$\"  # Check if it's a valid numeric string (1-5)\n",
    "    }\n",
    "}, [{'$set': {\"RatingValue\": {'$toInt': \"$RatingValue\"}}}])\n",
    "\n"
   ]
  },
  {
   "cell_type": "code",
   "execution_count": 27,
   "id": "bab20d9a",
   "metadata": {},
   "outputs": [
    {
     "name": "stdout",
     "output_type": "stream",
     "text": [
      "Latitude value: 51.08084\n",
      "Longitude value: 1.188537\n",
      "RatingValue value: 5\n",
      "Latitude data type: <class 'decimal.Decimal'>\n",
      "Longitude data type: <class 'decimal.Decimal'>\n",
      "RatingValue data type: <class 'int'>\n"
     ]
    }
   ],
   "source": [
    "# Check that the coordinates and rating value are now numbers\n",
    "\n",
    "sample_document = establishments.find_one()\n",
    "\n",
    "# Extract geocode values\n",
    "geocode = sample_document.get('geocode', {})\n",
    "latitude_value = geocode.get('latitude', Decimal128('0')).to_decimal()\n",
    "longitude_value = geocode.get('longitude', Decimal128('0')).to_decimal()\n",
    "\n",
    "# Extract RatingValue\n",
    "rating_value_value = sample_document.get('RatingValue', None)\n",
    "\n",
    "# Check if RatingValue is an integer or a valid numeric string\n",
    "if isinstance(rating_value_value, int):\n",
    "    rating_value_type = type(rating_value_value)\n",
    "else:\n",
    "    rating_value_value = int(rating_value_value) if rating_value_value.isdigit() else None\n",
    "    rating_value_type = type(rating_value_value) if rating_value_value is not None else None\n",
    "\n",
    "# Print the results\n",
    "print(\"Latitude value:\", latitude_value)\n",
    "print(\"Longitude value:\", longitude_value)\n",
    "print(\"RatingValue value:\", rating_value_value)\n",
    "\n",
    "# Check data types\n",
    "latitude_type = type(latitude_value)\n",
    "longitude_type = type(longitude_value)\n",
    "\n",
    "# Print the data types\n",
    "print(\"Latitude data type:\", latitude_type)\n",
    "print(\"Longitude data type:\", longitude_type)\n",
    "print(\"RatingValue data type:\", rating_value_type)\n"
   ]
  },
  {
   "cell_type": "code",
   "execution_count": null,
   "id": "b3f9b12a",
   "metadata": {},
   "outputs": [],
   "source": []
  }
 ],
 "metadata": {
  "kernelspec": {
   "display_name": "Python 3 (ipykernel)",
   "language": "python",
   "name": "python3"
  },
  "language_info": {
   "codemirror_mode": {
    "name": "ipython",
    "version": 3
   },
   "file_extension": ".py",
   "mimetype": "text/x-python",
   "name": "python",
   "nbconvert_exporter": "python",
   "pygments_lexer": "ipython3",
   "version": "3.10.13"
  }
 },
 "nbformat": 4,
 "nbformat_minor": 5
}
